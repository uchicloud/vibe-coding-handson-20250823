{
 "cells": [
  {
   "cell_type": "markdown",
   "id": "adfb4669",
   "metadata": {},
   "source": [
    "<instruction>\n",
    "- すべて1行のlambda式で実装する\n",
    "- Taskを読んで課題内容を理解し、実装と検算をする\n",
    "- 提出はテストコードで行う\n",
    "</instruction>\n",
    "\n",
    "<Task>\n",
    "1 - 1. 2つの数値を合計する\n",
    "1 - 2. 数値を2乗する\n",
    "1 - 3. 税込み計算 (10%)\n",
    "\n",
    "2 - 1. 入力された文字列を大文字にする\n",
    "2 - 2. 文字列の前後に特定の文字れてうを追加する\n",
    "2 - 3. フルネームを「姓, 名」に整形する\n",
    "\n",
    "3 - 1. 偶奇判定\n",
    "3 - 2. 最大値、最小値を返す\n",
    "3 - 3. 学生のテスト結果に応じてグレード(A, B, C)を判定する\n",
    "</Task>"
   ]
  }
 ],
 "metadata": {
  "language_info": {
   "name": "python"
  }
 },
 "nbformat": 4,
 "nbformat_minor": 5
}
