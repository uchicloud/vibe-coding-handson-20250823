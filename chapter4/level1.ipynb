{
 "cells": [
  {
   "cell_type": "markdown",
   "id": "adfb4669",
   "metadata": {},
   "source": [
    "<instruction>\n",
    "- すべて1行のlambda式で実装する\n",
    "- Taskを読んで課題内容を理解し、実装と検算をする\n",
    "- 提出はテストコードで行う\n",
    "</instruction>\n",
    "\n",
    "<Task>\n",
    "1 - 1. 2つの数値を合計する\n",
    "1 - 2. 数値を2乗する\n",
    "1 - 3. 税込み計算 (10%)\n",
    "\n",
    "2 - 1. 入力された文字列を大文字にする\n",
    "2 - 2. 文字列の前後に特定の文字れてうを追加する\n",
    "2 - 3. フルネームを「姓, 名」に整形する\n",
    "\n",
    "3 - 1. 偶奇判定\n",
    "3 - 2. 最大値、最小値を返す\n",
    "3 - 3. 学生のテスト結果に応じてグレード(A, B, C)を判定する\n",
    "</Task>"
   ]
  },
  {
   "cell_type": "code",
   "id": "ulletgrz1w",
   "source": "# Task 1: Mathematical operations\n\n# 1-1. 2つの数値を合計する\nadd_two_numbers = lambda x, y: x + y\n\n# 1-2. 数値を2乗する\nsquare = lambda x: x ** 2\n\n# 1-3. 税込み計算 (10%)\nadd_tax = lambda price: price * 1.1\n\nprint(\"Task 1: Mathematical operations\")\nprint(f\"1-1. add_two_numbers(5, 3) = {add_two_numbers(5, 3)}\")\nprint(f\"1-2. square(4) = {square(4)}\")\nprint(f\"1-3. add_tax(1000) = {add_tax(1000)}\")\nprint()",
   "metadata": {},
   "execution_count": null,
   "outputs": []
  },
  {
   "cell_type": "code",
   "id": "nvldhudykig",
   "source": "# Task 2: String manipulations\n\n# 2-1. 入力された文字列を大文字にする\nto_uppercase = lambda s: s.upper()\n\n# 2-2. 文字列の前後に特定の文字列を追加する\nadd_brackets = lambda s, prefix=\"[\", suffix=\"]\": f\"{prefix}{s}{suffix}\"\n\n# 2-3. フルネームを「姓, 名」に整形する\nformat_fullname = lambda first, last: f\"{last}, {first}\"\n\nprint(\"Task 2: String manipulations\")\nprint(f\"2-1. to_uppercase('hello') = {to_uppercase('hello')}\")\nprint(f\"2-2. add_brackets('test') = {add_brackets('test')}\")\nprint(f\"2-3. format_fullname('太郎', '田中') = {format_fullname('太郎', '田中')}\")\nprint()",
   "metadata": {},
   "execution_count": null,
   "outputs": []
  },
  {
   "cell_type": "code",
   "id": "q88i05fwo5a",
   "source": "# Task 3: Logic operations\n\n# 3-1. 偶奇判定\nis_even = lambda n: n % 2 == 0\n\n# 3-2. 最大値、最小値を返す\nget_max_min = lambda *args: (max(args), min(args))\n\n# 3-3. 学生のテスト結果に応じてグレード(A, B, C)を判定する\nget_grade = lambda score: \"A\" if score >= 80 else \"B\" if score >= 60 else \"C\"\n\nprint(\"Task 3: Logic operations\")\nprint(f\"3-1. is_even(4) = {is_even(4)}, is_even(3) = {is_even(3)}\")\nprint(f\"3-2. get_max_min(1, 5, 3, 9, 2) = {get_max_min(1, 5, 3, 9, 2)}\")\nprint(f\"3-3. get_grade(85) = {get_grade(85)}, get_grade(70) = {get_grade(70)}, get_grade(50) = {get_grade(50)}\")\nprint()",
   "metadata": {},
   "execution_count": null,
   "outputs": []
  },
  {
   "cell_type": "code",
   "id": "v6yvf5txz6q",
   "source": "# Test Code - 提出用テストコード\n\ndef test_all_functions():\n    \"\"\"すべての関数の動作を検証するテストコード\"\"\"\n    \n    print(\"=== 全課題のテスト実行 ===\\n\")\n    \n    # Task 1 Tests\n    print(\"Task 1 Tests:\")\n    assert add_two_numbers(5, 3) == 8, \"Test 1-1 Failed\"\n    assert add_two_numbers(0, 0) == 0, \"Test 1-1 Failed\"\n    assert add_two_numbers(-2, 3) == 1, \"Test 1-1 Failed\"\n    print(\"✓ 1-1: 2つの数値を合計する - PASS\")\n    \n    assert square(4) == 16, \"Test 1-2 Failed\"\n    assert square(0) == 0, \"Test 1-2 Failed\"\n    assert square(-3) == 9, \"Test 1-2 Failed\"\n    print(\"✓ 1-2: 数値を2乗する - PASS\")\n    \n    assert abs(add_tax(1000) - 1100.0) < 0.0001, \"Test 1-3 Failed\"\n    assert abs(add_tax(100) - 110.0) < 0.0001, \"Test 1-3 Failed\"\n    print(\"✓ 1-3: 税込み計算 (10%) - PASS\\n\")\n    \n    # Task 2 Tests\n    print(\"Task 2 Tests:\")\n    assert to_uppercase(\"hello\") == \"HELLO\", \"Test 2-1 Failed\"\n    assert to_uppercase(\"World\") == \"WORLD\", \"Test 2-1 Failed\"\n    print(\"✓ 2-1: 文字列を大文字にする - PASS\")\n    \n    assert add_brackets(\"test\") == \"[test]\", \"Test 2-2 Failed\"\n    assert add_brackets(\"hello\", \"(\", \")\") == \"(hello)\", \"Test 2-2 Failed\"\n    print(\"✓ 2-2: 文字列の前後に特定の文字列を追加する - PASS\")\n    \n    assert format_fullname(\"太郎\", \"田中\") == \"田中, 太郎\", \"Test 2-3 Failed\"\n    assert format_fullname(\"花子\", \"山田\") == \"山田, 花子\", \"Test 2-3 Failed\"\n    print(\"✓ 2-3: フルネームを「姓, 名」に整形する - PASS\\n\")\n    \n    # Task 3 Tests\n    print(\"Task 3 Tests:\")\n    assert is_even(4) == True, \"Test 3-1 Failed\"\n    assert is_even(3) == False, \"Test 3-1 Failed\"\n    assert is_even(0) == True, \"Test 3-1 Failed\"\n    print(\"✓ 3-1: 偶奇判定 - PASS\")\n    \n    assert get_max_min(1, 5, 3, 9, 2) == (9, 1), \"Test 3-2 Failed\"\n    assert get_max_min(10, 20) == (20, 10), \"Test 3-2 Failed\"\n    print(\"✓ 3-2: 最大値、最小値を返す - PASS\")\n    \n    assert get_grade(85) == \"A\", \"Test 3-3 Failed\"\n    assert get_grade(70) == \"B\", \"Test 3-3 Failed\"\n    assert get_grade(50) == \"C\", \"Test 3-3 Failed\"\n    assert get_grade(80) == \"A\", \"Test 3-3 Failed\"  # 境界値テスト\n    assert get_grade(60) == \"B\", \"Test 3-3 Failed\"  # 境界値テスト\n    print(\"✓ 3-3: 学生のテスト結果に応じてグレード判定 - PASS\\n\")\n    \n    print(\"🎉 すべてのテストが成功しました！\")\n    print(\"📝 提出準備完了\")\n\n# テスト実行\ntest_all_functions()",
   "metadata": {},
   "execution_count": null,
   "outputs": []
  }
 ],
 "metadata": {
  "language_info": {
   "name": "python"
  }
 },
 "nbformat": 4,
 "nbformat_minor": 5
}